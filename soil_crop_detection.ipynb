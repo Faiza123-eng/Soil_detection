{
  "cells": [
    {
      "cell_type": "code",
      "execution_count": null,
      "metadata": {
        "colab": {
          "background_save": true,
          "base_uri": "https://localhost:8080/",
          "height": 715
        },
        "id": "vTo3wTzphFZf",
        "outputId": "4128edd3-f9b9-4a4a-e92e-6b3883f97346"
      },
      "outputs": [
        {
          "name": "stdout",
          "output_type": "stream",
          "text": [
            "Model accuracy: 100.00%\n",
            "Welcome to the Cotton Crop Prediction Chatbot!\n"
          ]
        }
      ],
      "source": [
        "import pandas as pd\n",
        "import numpy as np\n",
        "from sklearn.model_selection import train_test_split\n",
        "from sklearn.ensemble import RandomForestClassifier\n",
        "from sklearn.metrics import accuracy_score\n",
        "from sklearn.preprocessing import LabelEncoder\n",
        "\n",
        "# Step 1: Load dataset\n",
        "file_path = '/content/Detection of Soil for cotton crop.csv'\n",
        "df = pd.read_csv(file_path)\n",
        "\n",
        "# Step 2: Preprocess the data\n",
        "# Encode categorical variables (Grain Surface, Particle Attached, Particle Spacing, Particle Width)\n",
        "label_encoders = {}\n",
        "categorical_cols = ['Grain Surface', 'Particle Attached', 'Particle Spacing', 'Particle Width']\n",
        "for col in categorical_cols:\n",
        "    label_encoders[col] = LabelEncoder()\n",
        "    df[col] = label_encoders[col].fit_transform(df[col])\n",
        "\n",
        "# Features (X) and target (y)\n",
        "X = df[['ph', 'Temperature', 'Humidity', 'Density', 'Electrical Conductivity', 'N', 'P', 'K', 'Ca', 'Mg',\n",
        "        'Grain Surface', 'Particle Attached', 'Particle Spacing', 'Particle Width']]  # All relevant features\n",
        "y = df['Cotton Crop']  # Target variable (0 or 1)\n",
        "\n",
        "# Step 3: Split data into training and testing sets\n",
        "X_train, X_test, y_train, y_test = train_test_split(X, y, test_size=0.2, random_state=42)\n",
        "\n",
        "# Step 4: Train the model using Random Forest Classifier\n",
        "clf = RandomForestClassifier()\n",
        "clf.fit(X_train, y_train)\n",
        "\n",
        "# Step 5: Test the model's accuracy\n",
        "y_pred = clf.predict(X_test)\n",
        "accuracy = accuracy_score(y_test, y_pred)\n",
        "print(f\"Model accuracy: {accuracy * 100:.2f}%\")\n",
        "\n",
        "# Step 6: Create chatbot interface\n",
        "def chatbot():\n",
        "    print(\"Welcome to the Cotton Crop Prediction Chatbot!\")\n",
        "    while True:\n",
        "        try:\n",
        "            ph = float(input(\"Enter the soil pH: \"))\n",
        "            temp = float(input(\"Enter the temperature (°C): \"))\n",
        "            humidity = float(input(\"Enter the humidity (%): \"))\n",
        "            density = float(input(\"Enter the soil density: \"))\n",
        "            conductivity = float(input(\"Enter the electrical conductivity: \"))\n",
        "            n = float(input(\"Enter the Nitrogen (N) level: \"))\n",
        "            p = float(input(\"Enter the Phosphorus (P) level: \"))\n",
        "            k = float(input(\"Enter the Potassium (K) level: \"))\n",
        "            ca = float(input(\"Enter the Calcium (Ca) level: \"))\n",
        "            mg = float(input(\"Enter the Magnesium (Mg) level: \"))\n",
        "\n",
        "            grain_surface = input(\"Enter the grain surface (smooth, gritty, scaly): \").lower()\n",
        "            particle_attached = input(\"Are particles attached? (yes/no): \").lower()\n",
        "            particle_spacing = input(\"Enter particle spacing (close, crowded): \").lower()\n",
        "            particle_width = input(\"Enter particle width (narrow, broad): \").lower()\n",
        "\n",
        "            # Convert categorical inputs to numbers using the label encoders\n",
        "            grain_surface = label_encoders['Grain Surface'].transform([grain_surface])[0]\n",
        "            particle_attached = label_encoders['Particle Attached'].transform([particle_attached])[0]\n",
        "            particle_spacing = label_encoders['Particle Spacing'].transform([particle_spacing])[0]\n",
        "            particle_width = label_encoders['Particle Width'].transform([particle_width])[0]\n",
        "\n",
        "            # Create input array for prediction\n",
        "            user_input = np.array([[ph, temp, humidity, density, conductivity, n, p, k, ca, mg,\n",
        "                                    grain_surface, particle_attached, particle_spacing, particle_width]])\n",
        "\n",
        "            # Make prediction\n",
        "            prediction = clf.predict(user_input)[0]\n",
        "            crop_suitability = 'suitable' if prediction == 1 else 'not suitable'\n",
        "\n",
        "            print(f\"The soil is {crop_suitability} for cotton crop cultivation.\")\n",
        "\n",
        "        except ValueError:\n",
        "            print(\"Please enter valid numerical values.\")\n",
        "\n",
        "        # Option to exit the chatbot\n",
        "        exit_input = input(\"Do you want to exit? (yes/no): \")\n",
        "        if exit_input.lower() == 'yes':\n",
        "            break\n",
        "\n",
        "# Step 7: Run the chatbot\n",
        "chatbot()\n"
      ]
    },
    {
      "cell_type": "code",
      "execution_count": null,
      "metadata": {
        "id": "XJMwWTr-hJDS"
      },
      "outputs": [],
      "source": [
        "from google.colab import drive\n",
        "drive.mount('/content/drive')"
      ]
    }
  ],
  "metadata": {
    "colab": {
      "provenance": []
    },
    "kernelspec": {
      "display_name": "Python 3",
      "name": "python3"
    },
    "language_info": {
      "name": "python"
    }
  },
  "nbformat": 4,
  "nbformat_minor": 0
}